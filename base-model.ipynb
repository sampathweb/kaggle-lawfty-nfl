{
 "cells": [
  {
   "cell_type": "code",
   "execution_count": 1,
   "metadata": {
    "collapsed": false
   },
   "outputs": [
    {
     "name": "stderr",
     "output_type": "stream",
     "text": [
      "/Users/sampathweb/miniconda3/envs/py35/lib/python3.5/site-packages/matplotlib/__init__.py:913: UserWarning: axes.color_cycle is deprecated and replaced with axes.prop_cycle; please use the latter.\n",
      "  warnings.warn(self.msg_depr % (key, alt_key))\n"
     ]
    }
   ],
   "source": [
    "import pandas as pd\n",
    "import numpy as np\n",
    "import matplotlib.pyplot as plt\n",
    "\n",
    "%matplotlib inline"
   ]
  },
  {
   "cell_type": "code",
   "execution_count": 8,
   "metadata": {
    "collapsed": true
   },
   "outputs": [],
   "source": [
    "from sklearn.model_selection import train_test_split"
   ]
  },
  {
   "cell_type": "code",
   "execution_count": 2,
   "metadata": {
    "collapsed": true
   },
   "outputs": [],
   "source": [
    "train_df = pd.read_csv(\"data/hacknight_train.csv\")"
   ]
  },
  {
   "cell_type": "code",
   "execution_count": 3,
   "metadata": {
    "collapsed": true
   },
   "outputs": [],
   "source": [
    "test_df = pd.read_csv(\"data/hacknight_test.csv\")"
   ]
  },
  {
   "cell_type": "code",
   "execution_count": 4,
   "metadata": {
    "collapsed": false
   },
   "outputs": [
    {
     "data": {
      "text/html": [
       "<div>\n",
       "<table border=\"1\" class=\"dataframe\">\n",
       "  <thead>\n",
       "    <tr style=\"text-align: right;\">\n",
       "      <th></th>\n",
       "      <th>week</th>\n",
       "      <th>homescore</th>\n",
       "      <th>awayscore</th>\n",
       "      <th>Hm_CS_wins</th>\n",
       "      <th>Hm_CS_points</th>\n",
       "      <th>Hm_CS_passatt</th>\n",
       "      <th>Hm_CS_passcomp</th>\n",
       "      <th>Hm_CS_passyds</th>\n",
       "      <th>Hm_CS_passtds</th>\n",
       "      <th>Hm_CS_passtwopta</th>\n",
       "      <th>...</th>\n",
       "      <th>AwA_PS_totalrecfumbs</th>\n",
       "      <th>AwA_PS_fumbslost</th>\n",
       "      <th>AwA_PS_sacks</th>\n",
       "      <th>AwA_PS_tackles</th>\n",
       "      <th>AwA_PS_kickrets</th>\n",
       "      <th>AwA_PS_kickretyds</th>\n",
       "      <th>AwA_PS_kickrettds</th>\n",
       "      <th>AwA_PS_puntrets</th>\n",
       "      <th>AwA_PS_puntretyds</th>\n",
       "      <th>AwA_PS_puntrettds</th>\n",
       "    </tr>\n",
       "  </thead>\n",
       "  <tbody>\n",
       "    <tr>\n",
       "      <th>0</th>\n",
       "      <td>7</td>\n",
       "      <td>31</td>\n",
       "      <td>21</td>\n",
       "      <td>0.833333</td>\n",
       "      <td>27.500000</td>\n",
       "      <td>31.833333</td>\n",
       "      <td>21.833333</td>\n",
       "      <td>251.666667</td>\n",
       "      <td>1.833333</td>\n",
       "      <td>0.000000</td>\n",
       "      <td>...</td>\n",
       "      <td>1.6250</td>\n",
       "      <td>0.7500</td>\n",
       "      <td>2.5000</td>\n",
       "      <td>41.6875</td>\n",
       "      <td>2.0625</td>\n",
       "      <td>44.750</td>\n",
       "      <td>0.0000</td>\n",
       "      <td>3.0000</td>\n",
       "      <td>39.8750</td>\n",
       "      <td>0.1875</td>\n",
       "    </tr>\n",
       "    <tr>\n",
       "      <th>1</th>\n",
       "      <td>5</td>\n",
       "      <td>16</td>\n",
       "      <td>14</td>\n",
       "      <td>0.333333</td>\n",
       "      <td>25.666667</td>\n",
       "      <td>40.000000</td>\n",
       "      <td>27.333333</td>\n",
       "      <td>301.333333</td>\n",
       "      <td>2.666667</td>\n",
       "      <td>0.333333</td>\n",
       "      <td>...</td>\n",
       "      <td>1.3125</td>\n",
       "      <td>0.5625</td>\n",
       "      <td>2.0625</td>\n",
       "      <td>43.3125</td>\n",
       "      <td>3.2500</td>\n",
       "      <td>72.625</td>\n",
       "      <td>0.0000</td>\n",
       "      <td>1.9375</td>\n",
       "      <td>10.7500</td>\n",
       "      <td>0.0000</td>\n",
       "    </tr>\n",
       "    <tr>\n",
       "      <th>2</th>\n",
       "      <td>8</td>\n",
       "      <td>24</td>\n",
       "      <td>30</td>\n",
       "      <td>0.500000</td>\n",
       "      <td>21.333333</td>\n",
       "      <td>39.666667</td>\n",
       "      <td>23.666667</td>\n",
       "      <td>266.000000</td>\n",
       "      <td>2.000000</td>\n",
       "      <td>0.500000</td>\n",
       "      <td>...</td>\n",
       "      <td>1.0000</td>\n",
       "      <td>0.6875</td>\n",
       "      <td>2.0625</td>\n",
       "      <td>40.5000</td>\n",
       "      <td>2.1875</td>\n",
       "      <td>49.500</td>\n",
       "      <td>0.0625</td>\n",
       "      <td>1.8750</td>\n",
       "      <td>12.0625</td>\n",
       "      <td>0.0000</td>\n",
       "    </tr>\n",
       "    <tr>\n",
       "      <th>3</th>\n",
       "      <td>15</td>\n",
       "      <td>27</td>\n",
       "      <td>28</td>\n",
       "      <td>0.538462</td>\n",
       "      <td>22.307692</td>\n",
       "      <td>31.923077</td>\n",
       "      <td>18.384615</td>\n",
       "      <td>238.153846</td>\n",
       "      <td>1.230769</td>\n",
       "      <td>0.153846</td>\n",
       "      <td>...</td>\n",
       "      <td>1.4375</td>\n",
       "      <td>0.9375</td>\n",
       "      <td>1.6875</td>\n",
       "      <td>43.1250</td>\n",
       "      <td>4.5625</td>\n",
       "      <td>91.000</td>\n",
       "      <td>0.0625</td>\n",
       "      <td>3.3750</td>\n",
       "      <td>38.2500</td>\n",
       "      <td>0.0625</td>\n",
       "    </tr>\n",
       "    <tr>\n",
       "      <th>4</th>\n",
       "      <td>17</td>\n",
       "      <td>27</td>\n",
       "      <td>9</td>\n",
       "      <td>0.800000</td>\n",
       "      <td>26.000000</td>\n",
       "      <td>26.466667</td>\n",
       "      <td>16.800000</td>\n",
       "      <td>222.400000</td>\n",
       "      <td>1.733333</td>\n",
       "      <td>0.066667</td>\n",
       "      <td>...</td>\n",
       "      <td>1.1250</td>\n",
       "      <td>0.2500</td>\n",
       "      <td>2.1250</td>\n",
       "      <td>42.3750</td>\n",
       "      <td>1.8750</td>\n",
       "      <td>44.875</td>\n",
       "      <td>0.0000</td>\n",
       "      <td>2.5625</td>\n",
       "      <td>24.3125</td>\n",
       "      <td>0.0000</td>\n",
       "    </tr>\n",
       "  </tbody>\n",
       "</table>\n",
       "<p>5 rows × 363 columns</p>\n",
       "</div>"
      ],
      "text/plain": [
       "   week  homescore  awayscore  Hm_CS_wins  Hm_CS_points  Hm_CS_passatt  \\\n",
       "0     7         31         21    0.833333     27.500000      31.833333   \n",
       "1     5         16         14    0.333333     25.666667      40.000000   \n",
       "2     8         24         30    0.500000     21.333333      39.666667   \n",
       "3    15         27         28    0.538462     22.307692      31.923077   \n",
       "4    17         27          9    0.800000     26.000000      26.466667   \n",
       "\n",
       "   Hm_CS_passcomp  Hm_CS_passyds  Hm_CS_passtds  Hm_CS_passtwopta  \\\n",
       "0       21.833333     251.666667       1.833333          0.000000   \n",
       "1       27.333333     301.333333       2.666667          0.333333   \n",
       "2       23.666667     266.000000       2.000000          0.500000   \n",
       "3       18.384615     238.153846       1.230769          0.153846   \n",
       "4       16.800000     222.400000       1.733333          0.066667   \n",
       "\n",
       "         ...          AwA_PS_totalrecfumbs  AwA_PS_fumbslost  AwA_PS_sacks  \\\n",
       "0        ...                        1.6250            0.7500        2.5000   \n",
       "1        ...                        1.3125            0.5625        2.0625   \n",
       "2        ...                        1.0000            0.6875        2.0625   \n",
       "3        ...                        1.4375            0.9375        1.6875   \n",
       "4        ...                        1.1250            0.2500        2.1250   \n",
       "\n",
       "   AwA_PS_tackles  AwA_PS_kickrets  AwA_PS_kickretyds  AwA_PS_kickrettds  \\\n",
       "0         41.6875           2.0625             44.750             0.0000   \n",
       "1         43.3125           3.2500             72.625             0.0000   \n",
       "2         40.5000           2.1875             49.500             0.0625   \n",
       "3         43.1250           4.5625             91.000             0.0625   \n",
       "4         42.3750           1.8750             44.875             0.0000   \n",
       "\n",
       "   AwA_PS_puntrets  AwA_PS_puntretyds  AwA_PS_puntrettds  \n",
       "0           3.0000            39.8750             0.1875  \n",
       "1           1.9375            10.7500             0.0000  \n",
       "2           1.8750            12.0625             0.0000  \n",
       "3           3.3750            38.2500             0.0625  \n",
       "4           2.5625            24.3125             0.0000  \n",
       "\n",
       "[5 rows x 363 columns]"
      ]
     },
     "execution_count": 4,
     "metadata": {},
     "output_type": "execute_result"
    }
   ],
   "source": [
    "train_df.head()"
   ]
  },
  {
   "cell_type": "code",
   "execution_count": 26,
   "metadata": {
    "collapsed": true
   },
   "outputs": [],
   "source": [
    "X = train_df.iloc[:, 3:]\n",
    "y1 = train_df[\"homescore\"].values.astype(np.float32)\n",
    "y2 = train_df[[\"awayscore\"]]"
   ]
  },
  {
   "cell_type": "code",
   "execution_count": 53,
   "metadata": {
    "collapsed": false
   },
   "outputs": [],
   "source": [
    "X_train, X_test, y1_train, y1_test, y2_train, y2_test = train_test_split(X, y1, y2, test_size=0.1)"
   ]
  },
  {
   "cell_type": "code",
   "execution_count": 54,
   "metadata": {
    "collapsed": false
   },
   "outputs": [],
   "source": [
    "X_mean = X_train.mean()"
   ]
  },
  {
   "cell_type": "code",
   "execution_count": 60,
   "metadata": {
    "collapsed": false
   },
   "outputs": [
    {
     "name": "stderr",
     "output_type": "stream",
     "text": [
      "/Users/sampathweb/miniconda3/envs/py35/lib/python3.5/site-packages/pandas/core/generic.py:3295: SettingWithCopyWarning: \n",
      "A value is trying to be set on a copy of a slice from a DataFrame\n",
      "\n",
      "See the caveats in the documentation: http://pandas.pydata.org/pandas-docs/stable/indexing.html#indexing-view-versus-copy\n",
      "  self._update_inplace(new_data)\n"
     ]
    }
   ],
   "source": [
    "X_train = X_train.fillna(X_mean, inplace=True)\n",
    "X_test = X_test.fillna(X_mean, inplace=True)"
   ]
  },
  {
   "cell_type": "code",
   "execution_count": 28,
   "metadata": {
    "collapsed": true
   },
   "outputs": [],
   "source": [
    "from sklearn.ensemble import RandomForestRegressor"
   ]
  },
  {
   "cell_type": "code",
   "execution_count": 61,
   "metadata": {
    "collapsed": false
   },
   "outputs": [],
   "source": [
    "model_y1 = RandomForestRegressor(n_estimators=10, min_samples_leaf=5, criterion=\"mae\", n_jobs=-1)\n",
    "model_y2 = RandomForestRegressor(n_estimators=10, min_samples_leaf=5, criterion=\"mae\", n_jobs=-1)"
   ]
  },
  {
   "cell_type": "code",
   "execution_count": 62,
   "metadata": {
    "collapsed": false
   },
   "outputs": [
    {
     "name": "stderr",
     "output_type": "stream",
     "text": [
      "/Users/sampathweb/miniconda3/envs/py35/lib/python3.5/site-packages/ipykernel/__main__.py:2: DataConversionWarning: A column-vector y was passed when a 1d array was expected. Please change the shape of y to (n_samples,), for example using ravel().\n",
      "  from ipykernel import kernelapp as app\n"
     ]
    },
    {
     "data": {
      "text/plain": [
       "RandomForestRegressor(bootstrap=True, criterion='mae', max_depth=None,\n",
       "           max_features='auto', max_leaf_nodes=None,\n",
       "           min_impurity_split=1e-07, min_samples_leaf=5,\n",
       "           min_samples_split=2, min_weight_fraction_leaf=0.0,\n",
       "           n_estimators=10, n_jobs=-1, oob_score=False, random_state=None,\n",
       "           verbose=0, warm_start=False)"
      ]
     },
     "execution_count": 62,
     "metadata": {},
     "output_type": "execute_result"
    }
   ],
   "source": [
    "model_y1.fit(X_train, y1_train)\n",
    "model_y2.fit(X_train, y2_train)"
   ]
  },
  {
   "cell_type": "code",
   "execution_count": 63,
   "metadata": {
    "collapsed": false
   },
   "outputs": [
    {
     "data": {
      "text/plain": [
       "0.0075355929242738586"
      ]
     },
     "execution_count": 63,
     "metadata": {},
     "output_type": "execute_result"
    }
   ],
   "source": [
    "model_y1.score(X_test, y1_test)"
   ]
  },
  {
   "cell_type": "code",
   "execution_count": 64,
   "metadata": {
    "collapsed": false
   },
   "outputs": [
    {
     "data": {
      "text/plain": [
       "-0.078744944865452249"
      ]
     },
     "execution_count": 64,
     "metadata": {},
     "output_type": "execute_result"
    }
   ],
   "source": [
    "model_y2.score(X_test, y2_test)"
   ]
  },
  {
   "cell_type": "code",
   "execution_count": 68,
   "metadata": {
    "collapsed": false
   },
   "outputs": [],
   "source": [
    "X_new = test_df.iloc[:, 2:]"
   ]
  },
  {
   "cell_type": "code",
   "execution_count": 71,
   "metadata": {
    "collapsed": true
   },
   "outputs": [],
   "source": [
    "X_new = X_new.fillna(X_mean)"
   ]
  },
  {
   "cell_type": "code",
   "execution_count": 73,
   "metadata": {
    "collapsed": false
   },
   "outputs": [],
   "source": [
    "y1_pred = model_y1.predict(X_new)\n",
    "y2_pred = model_y2.predict(X_new)"
   ]
  },
  {
   "cell_type": "code",
   "execution_count": 74,
   "metadata": {
    "collapsed": true
   },
   "outputs": [],
   "source": [
    "y1_pred = np.round(y1_pred).astype(int)\n",
    "y2_pred = np.round(y2_pred).astype(int)"
   ]
  },
  {
   "cell_type": "code",
   "execution_count": 83,
   "metadata": {
    "collapsed": false
   },
   "outputs": [],
   "source": [
    "pd.DataFrame({\n",
    "    \"index\": np.arange(len(y1_pred)),\n",
    "    \"homescore\": y1_pred,\n",
    "    \"awayscore\": y2_pred\n",
    "})[[\"index\", \"homescore\", \"awayscore\"]].to_csv(\"submission1.csv\", index=False)"
   ]
  },
  {
   "cell_type": "code",
   "execution_count": 84,
   "metadata": {
    "collapsed": false
   },
   "outputs": [
    {
     "name": "stdout",
     "output_type": "stream",
     "text": [
      "index,homescore,awayscore\r\n",
      "0,27,26\r\n",
      "1,28,23\r\n",
      "2,18,15\r\n",
      "3,23,24\r\n",
      "4,16,20\r\n",
      "5,30,23\r\n",
      "6,26,22\r\n",
      "7,25,26\r\n",
      "8,21,15\r\n"
     ]
    }
   ],
   "source": [
    "!head submission1.csv"
   ]
  },
  {
   "cell_type": "code",
   "execution_count": null,
   "metadata": {
    "collapsed": true
   },
   "outputs": [],
   "source": []
  }
 ],
 "metadata": {
  "kernelspec": {
   "display_name": "Python 3",
   "language": "python",
   "name": "python3"
  },
  "language_info": {
   "codemirror_mode": {
    "name": "ipython",
    "version": 3
   },
   "file_extension": ".py",
   "mimetype": "text/x-python",
   "name": "python",
   "nbconvert_exporter": "python",
   "pygments_lexer": "ipython3",
   "version": "3.5.3"
  }
 },
 "nbformat": 4,
 "nbformat_minor": 2
}
